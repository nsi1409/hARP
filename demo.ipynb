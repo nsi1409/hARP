{
 "cells": [
  {
   "cell_type": "code",
   "execution_count": null,
   "id": "4962d907-3ef0-4501-95d5-801abd6753a0",
   "metadata": {},
   "outputs": [],
   "source": [
    "!pip3 install -r requirements.txt\n",
    "import harp"
   ]
  },
  {
   "cell_type": "code",
   "execution_count": null,
   "id": "5f4d79d6-ee04-47b3-84c2-75cedaee15aa",
   "metadata": {},
   "outputs": [],
   "source": [
    "ips = harp.listen(120)\n",
    "print(ips)"
   ]
  },
  {
   "cell_type": "code",
   "execution_count": null,
   "id": "abbe1861-57d2-416e-a5b7-1670a42a343d",
   "metadata": {},
   "outputs": [],
   "source": [
    "ips = harp.listen(300, '137.')\n",
    "print(ips)"
   ]
  },
  {
   "cell_type": "code",
   "execution_count": null,
   "id": "14bf6d41-169f-49a3-844a-5517f4396417",
   "metadata": {},
   "outputs": [],
   "source": [
    "arp_map = {}\n",
    "for ip in ips:\n",
    "    print(ip)\n",
    "    try:\n",
    "        resp = harp.arp_query(ip)\n",
    "        arp_map = arp_map | resp\n",
    "    except:\n",
    "        print('not found')\n",
    "print(arp_map)"
   ]
  },
  {
   "cell_type": "code",
   "execution_count": null,
   "id": "9abe727a-5acf-44b6-a6f3-aae99d02d977",
   "metadata": {},
   "outputs": [],
   "source": [
    "arp_map = harp.arp_query('137.112.217.0/24')\n",
    "print(arp_map)"
   ]
  },
  {
   "cell_type": "code",
   "execution_count": null,
   "id": "8ac33abc-bbef-40ed-b776-3f20013b9969",
   "metadata": {},
   "outputs": [],
   "source": [
    "target_mac = '4c:79:6e:8a:4d:41'"
   ]
  },
  {
   "cell_type": "code",
   "execution_count": null,
   "id": "9bbfe25f-3df1-49c4-914b-6b6e867bf7fe",
   "metadata": {},
   "outputs": [],
   "source": [
    "arp_map[target_mac]"
   ]
  },
  {
   "cell_type": "code",
   "execution_count": null,
   "id": "b41c2000-92cd-473a-9bb7-8b6ef4dd5b66",
   "metadata": {},
   "outputs": [],
   "source": [
    "ip = harp.find_mac(target_mac, '137.112.217.0/24')\n",
    "print(ip)"
   ]
  },
  {
   "cell_type": "code",
   "execution_count": null,
   "id": "50b6b2bf-7715-49f7-87f3-1f36cf432352",
   "metadata": {},
   "outputs": [],
   "source": [
    "import time\n",
    "\n",
    "time.sleep(5)\n",
    "arp_map = harp.arp_query('137.112.217.0/24')"
   ]
  }
 ],
 "metadata": {
  "kernelspec": {
   "display_name": "Python 3 (ipykernel)",
   "language": "python",
   "name": "python3"
  },
  "language_info": {
   "codemirror_mode": {
    "name": "ipython",
    "version": 3
   },
   "file_extension": ".py",
   "mimetype": "text/x-python",
   "name": "python",
   "nbconvert_exporter": "python",
   "pygments_lexer": "ipython3",
   "version": "3.12.9"
  }
 },
 "nbformat": 4,
 "nbformat_minor": 5
}
